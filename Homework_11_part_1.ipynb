{
 "cells": [
  {
   "cell_type": "markdown",
   "id": "d8305f54-d8b3-45af-bec7-5c9ed72003c1",
   "metadata": {},
   "source": [
    "# Module 11 \n",
    "### Deliverable 1: Scrape Titles and Preview Text from Mars News"
   ]
  },
  {
   "cell_type": "code",
   "execution_count": 12,
   "id": "24cd68df-89f1-4470-8efb-5b8b8e690a13",
   "metadata": {},
   "outputs": [],
   "source": [
    "# Scraping\n",
    "from splinter import Browser\n",
    "from selenium.webdriver.chrome.service import Service\n",
    "from webdriver_manager.chrome import ChromeDriverManager\n",
    "\n",
    "# requests\n",
    "import requests\n",
    "import time\n",
    "\n",
    "# parsing\n",
    "from bs4 import BeautifulSoup\n",
    "\n",
    "# data science\n",
    "import pandas as pd\n",
    "import numpy as np\n",
    "import matplotlib.pyplot as plt"
   ]
  },
  {
   "cell_type": "code",
   "execution_count": 13,
   "id": "6d59b63d-e3d6-4509-9e4c-fb2dbc4fa379",
   "metadata": {},
   "outputs": [],
   "source": [
    "# open a Chrome window with Splinter\n",
    "my_service = Service(executable_path=ChromeDriverManager().install())\n",
    "browser = Browser('chrome', service=my_service)"
   ]
  },
  {
   "cell_type": "code",
   "execution_count": 14,
   "id": "f749e300-2106-4417-8a35-c69e374ebe96",
   "metadata": {},
   "outputs": [],
   "source": [
    "# set the URL to a variable\n",
    "url = 'https://static.bc-edx.com/data/web/mars_news/index.html'\n",
    "\n",
    "# send the browser to the URL\n",
    "browser.visit(url)"
   ]
  },
  {
   "cell_type": "code",
   "execution_count": 15,
   "id": "50ef09ab-ba03-4bbf-a5e8-03f075f233a7",
   "metadata": {},
   "outputs": [],
   "source": [
    "# save the HTML from the browser\n",
    "html = browser.html\n",
    "\n",
    "# create a Beautiful Soup object\n",
    "soup = BeautifulSoup(html, 'html.parser')"
   ]
  },
  {
   "cell_type": "code",
   "execution_count": 29,
   "id": "e696fd7e-c55e-44a7-8db2-22e0ffb27d7e",
   "metadata": {},
   "outputs": [
    {
     "name": "stdout",
     "output_type": "stream",
     "text": [
      "{'title': \"NASA's MAVEN Observes Martian Light Show Caused by Major Solar Storm\", 'preview': 'For the first time in its eight years orbiting Mars, NASA’s MAVEN mission witnessed two different types of ultraviolet aurorae simultaneously, the result of solar storms that began on Aug. 27.\"}\n",
      "{'title': \"NASA Prepares to Say 'Farewell' to InSight Spacecraft\", 'preview': 'A closer look at what goes into wrapping up the mission as the spacecraft’s power supply continues to dwindle.\"}\n",
      "{'title': \"NASA and ESA Agree on Next Steps to Return Mars Samples to Earth\", 'preview': 'The agency’s Perseverance rover will establish the first sample depot on Mars.\"}\n",
      "{'title': \"NASA's InSight Lander Detects Stunning Meteoroid Impact on Mars\", 'preview': 'The agency’s lander felt the ground shake during the impact while cameras aboard the Mars Reconnaissance Orbiter spotted the yawning new crater from space.\"}\n",
      "{'title': \"NASA To Host Briefing on InSight, Mars Reconnaissance Orbiter Findings\", 'preview': 'Scientists from two Mars missions will discuss how they combined images and data for a major finding on the Red Planet.\"}\n",
      "{'title': \"Why NASA Is Trying To Crash Land on Mars\", 'preview': 'Like a car’s crumple zone, the experimental SHIELD lander is designed to absorb a hard impact.\"}\n",
      "{'title': \"Curiosity Mars Rover Reaches Long-Awaited Salty Region\", 'preview': 'After years of climbing, the Mars rover has arrived at a special region believed to have formed as Mars’ climate was drying.\"}\n",
      "{'title': \"Mars Mission Shields Up for Tests\", 'preview': 'Protecting Mars Sample Return spacecraft from micrometeorites requires high-caliber work.\"}\n",
      "{'title': \"NASA's InSight Waits Out Dust Storm\", 'preview': 'InSight’s team is taking steps to help the solar-powered lander continue operating for as long as possible.\"}\n",
      "{'title': \"NASA's InSight 'Hears' Its First Meteoroid Impacts on Mars\", 'preview': 'The Mars lander’s seismometer has picked up vibrations from four separate impacts in the past two years.\"}\n",
      "{'title': \"NASA's Perseverance Rover Investigates Geologically Rich Mars Terrain\", 'preview': 'The latest findings provide greater detail on a region of the Red Planet that has a watery past and is yielding promising samples for the NASA-ESA Mars Sample Return campaign.\"}\n",
      "{'title': \"NASA to Host Briefing on Perseverance Mars Rover Mission Operations\", 'preview': 'Members of the mission will discuss the rover’s activities as it gathers samples in an ancient river delta.\"}\n",
      "{'title': \"NASA's Perseverance Makes New Discoveries in Mars' Jezero Crater\", 'preview': 'The rover found that Jezero Crater’s floor is made up of volcanic rocks that have interacted with water.\"}\n",
      "{'title': \"10 Years Since Landing, NASA's Curiosity Mars Rover Still Has Drive\", 'preview': 'Despite signs of wear, the intrepid spacecraft is about to start an exciting new chapter of its mission as it climbs a Martian mountain.\"}\n",
      "{'title': \"SAM's Top 5 Discoveries Aboard NASA's Curiosity Rover at Mars\", 'preview': '“Selfie” of the Curiosity rover with inset showing the SAM instrument prior to installation on the rover.\"}\n"
     ]
    }
   ],
   "source": [
    "# Extract all the text elements\n",
    "# use parent container to find text elements \n",
    "parent_container = soup.find('div', {'id': 'news'})\n",
    "\n",
    "all_text = parent_container.find_all('div', {'class': 'list_text'})\n",
    "\n",
    "# loop through all text articles\n",
    "article_text = []\n",
    "\n",
    "for text in all_text:\n",
    "    # date = text.find('div', {'class': 'list_date'}).text.strip()\n",
    "    title = text.find('div', {'class': 'content_title'}).text.strip()\n",
    "    teaser_text = text.find('div', {'class': 'article_teaser_body'}).text.strip()\n",
    "\n",
    " # create dictionary for each article\n",
    "    articles_text = {\n",
    "        'title': title,\n",
    "        'preview': teaser_text\n",
    "    }\n",
    "    # Append the dictionary to the list\n",
    "    article_text.append(articles_text)\n",
    "\n",
    "# Print the list to confirm success\n",
    "for article in article_text:\n",
    "    print(f\"{{'title': \\\"{article['title']}\\\", 'preview': '{article['preview']}\\\"}}\")"
   ]
  },
  {
   "cell_type": "code",
   "execution_count": null,
   "id": "81e3a668-529c-44e0-a176-73f6988cff03",
   "metadata": {},
   "outputs": [],
   "source": [
    "browser.quit()"
   ]
  },
  {
   "cell_type": "code",
   "execution_count": null,
   "id": "3ceb9311-6dcc-4fea-adb7-edaec2104407",
   "metadata": {},
   "outputs": [],
   "source": []
  }
 ],
 "metadata": {
  "kernelspec": {
   "display_name": "Python 3 (ipykernel)",
   "language": "python",
   "name": "python3"
  },
  "language_info": {
   "codemirror_mode": {
    "name": "ipython",
    "version": 3
   },
   "file_extension": ".py",
   "mimetype": "text/x-python",
   "name": "python",
   "nbconvert_exporter": "python",
   "pygments_lexer": "ipython3",
   "version": "3.10.14"
  }
 },
 "nbformat": 4,
 "nbformat_minor": 5
}
